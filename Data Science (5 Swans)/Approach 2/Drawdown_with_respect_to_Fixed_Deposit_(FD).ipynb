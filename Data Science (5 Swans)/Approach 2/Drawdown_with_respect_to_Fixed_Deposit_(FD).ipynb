{
  "nbformat": 4,
  "nbformat_minor": 0,
  "metadata": {
    "colab": {
      "provenance": [],
      "authorship_tag": "ABX9TyPynrQilkmxbnF2EDUjUq1F",
      "include_colab_link": true
    },
    "kernelspec": {
      "name": "python3",
      "display_name": "Python 3"
    },
    "language_info": {
      "name": "python"
    }
  },
  "cells": [
    {
      "cell_type": "markdown",
      "metadata": {
        "id": "view-in-github",
        "colab_type": "text"
      },
      "source": [
        "<a href=\"https://colab.research.google.com/github/BlackIce001/2CentsCapital-Assessment/blob/main/Drawdown_with_respect_to_Fixed_Deposit_(FD).ipynb\" target=\"_parent\"><img src=\"https://colab.research.google.com/assets/colab-badge.svg\" alt=\"Open In Colab\"/></a>"
      ]
    },
    {
      "cell_type": "code",
      "execution_count": null,
      "metadata": {
        "id": "0YcFvE5CqECE"
      },
      "outputs": [],
      "source": [
        "from google.colab import drive"
      ]
    },
    {
      "cell_type": "code",
      "source": [
        "drive.mount('/content/gdrive')"
      ],
      "metadata": {
        "colab": {
          "base_uri": "https://localhost:8080/"
        },
        "id": "xCNIS-GtqfIw",
        "outputId": "09923b69-8699-4ee0-bac4-e1eb8da35fef"
      },
      "execution_count": null,
      "outputs": [
        {
          "output_type": "stream",
          "name": "stdout",
          "text": [
            "Mounted at /content/gdrive\n"
          ]
        }
      ]
    },
    {
      "source": [
        "import pandas as pd\n",
        "\n",
        "# Reading the file\n",
        "try:\n",
        "    daily_pnl_path = pd.read_csv(r'/content/gdrive/My Drive/CN/daily_pnl.csv')\n",
        "    print(\"File loaded successfully as a CSV.\")\n",
        "except Exception as e:\n",
        "    print(f\"Error reading file as CSV: {e}\")\n",
        "\n",
        "    # If reading fails, try exploring the file further\n",
        "    !file '/content/gdrive/My Drive/CN/daily_pnl.csv'\n"
      ],
      "cell_type": "code",
      "metadata": {
        "colab": {
          "base_uri": "https://localhost:8080/"
        },
        "id": "2YFqU63drqbr",
        "outputId": "2bd4c809-f1c7-41c4-e09d-8c7b90884e4e"
      },
      "execution_count": null,
      "outputs": [
        {
          "output_type": "stream",
          "name": "stdout",
          "text": [
            "File loaded successfully as a CSV.\n"
          ]
        }
      ]
    },
    {
      "cell_type": "code",
      "source": [
        "display(pd.DataFrame(daily_pnl_path))"
      ],
      "metadata": {
        "colab": {
          "base_uri": "https://localhost:8080/",
          "height": 423
        },
        "id": "17COgfFprx47",
        "outputId": "71ad6353-e041-46cb-8be5-5ff876ef6b55"
      },
      "execution_count": null,
      "outputs": [
        {
          "output_type": "display_data",
          "data": {
            "text/plain": [
              "    2024-01-01  -156\n",
              "0   2024-01-03   105\n",
              "1   2024-01-04    74\n",
              "2   2024-01-05    10\n",
              "3   2024-01-08     0\n",
              "4   2024-01-09  -111\n",
              "..         ...   ...\n",
              "75  2024-04-30   -18\n",
              "76  2024-05-02   151\n",
              "77  2024-05-03   -91\n",
              "78  2024-05-06   -80\n",
              "79  2024-05-07    53\n",
              "\n",
              "[80 rows x 2 columns]"
            ],
            "text/html": [
              "\n",
              "  <div id=\"df-bbffc2d0-7156-4dd4-b01a-78baaab847cf\" class=\"colab-df-container\">\n",
              "    <div>\n",
              "<style scoped>\n",
              "    .dataframe tbody tr th:only-of-type {\n",
              "        vertical-align: middle;\n",
              "    }\n",
              "\n",
              "    .dataframe tbody tr th {\n",
              "        vertical-align: top;\n",
              "    }\n",
              "\n",
              "    .dataframe thead th {\n",
              "        text-align: right;\n",
              "    }\n",
              "</style>\n",
              "<table border=\"1\" class=\"dataframe\">\n",
              "  <thead>\n",
              "    <tr style=\"text-align: right;\">\n",
              "      <th></th>\n",
              "      <th>2024-01-01</th>\n",
              "      <th>-156</th>\n",
              "    </tr>\n",
              "  </thead>\n",
              "  <tbody>\n",
              "    <tr>\n",
              "      <th>0</th>\n",
              "      <td>2024-01-03</td>\n",
              "      <td>105</td>\n",
              "    </tr>\n",
              "    <tr>\n",
              "      <th>1</th>\n",
              "      <td>2024-01-04</td>\n",
              "      <td>74</td>\n",
              "    </tr>\n",
              "    <tr>\n",
              "      <th>2</th>\n",
              "      <td>2024-01-05</td>\n",
              "      <td>10</td>\n",
              "    </tr>\n",
              "    <tr>\n",
              "      <th>3</th>\n",
              "      <td>2024-01-08</td>\n",
              "      <td>0</td>\n",
              "    </tr>\n",
              "    <tr>\n",
              "      <th>4</th>\n",
              "      <td>2024-01-09</td>\n",
              "      <td>-111</td>\n",
              "    </tr>\n",
              "    <tr>\n",
              "      <th>...</th>\n",
              "      <td>...</td>\n",
              "      <td>...</td>\n",
              "    </tr>\n",
              "    <tr>\n",
              "      <th>75</th>\n",
              "      <td>2024-04-30</td>\n",
              "      <td>-18</td>\n",
              "    </tr>\n",
              "    <tr>\n",
              "      <th>76</th>\n",
              "      <td>2024-05-02</td>\n",
              "      <td>151</td>\n",
              "    </tr>\n",
              "    <tr>\n",
              "      <th>77</th>\n",
              "      <td>2024-05-03</td>\n",
              "      <td>-91</td>\n",
              "    </tr>\n",
              "    <tr>\n",
              "      <th>78</th>\n",
              "      <td>2024-05-06</td>\n",
              "      <td>-80</td>\n",
              "    </tr>\n",
              "    <tr>\n",
              "      <th>79</th>\n",
              "      <td>2024-05-07</td>\n",
              "      <td>53</td>\n",
              "    </tr>\n",
              "  </tbody>\n",
              "</table>\n",
              "<p>80 rows × 2 columns</p>\n",
              "</div>\n",
              "    <div class=\"colab-df-buttons\">\n",
              "\n",
              "  <div class=\"colab-df-container\">\n",
              "    <button class=\"colab-df-convert\" onclick=\"convertToInteractive('df-bbffc2d0-7156-4dd4-b01a-78baaab847cf')\"\n",
              "            title=\"Convert this dataframe to an interactive table.\"\n",
              "            style=\"display:none;\">\n",
              "\n",
              "  <svg xmlns=\"http://www.w3.org/2000/svg\" height=\"24px\" viewBox=\"0 -960 960 960\">\n",
              "    <path d=\"M120-120v-720h720v720H120Zm60-500h600v-160H180v160Zm220 220h160v-160H400v160Zm0 220h160v-160H400v160ZM180-400h160v-160H180v160Zm440 0h160v-160H620v160ZM180-180h160v-160H180v160Zm440 0h160v-160H620v160Z\"/>\n",
              "  </svg>\n",
              "    </button>\n",
              "\n",
              "  <style>\n",
              "    .colab-df-container {\n",
              "      display:flex;\n",
              "      gap: 12px;\n",
              "    }\n",
              "\n",
              "    .colab-df-convert {\n",
              "      background-color: #E8F0FE;\n",
              "      border: none;\n",
              "      border-radius: 50%;\n",
              "      cursor: pointer;\n",
              "      display: none;\n",
              "      fill: #1967D2;\n",
              "      height: 32px;\n",
              "      padding: 0 0 0 0;\n",
              "      width: 32px;\n",
              "    }\n",
              "\n",
              "    .colab-df-convert:hover {\n",
              "      background-color: #E2EBFA;\n",
              "      box-shadow: 0px 1px 2px rgba(60, 64, 67, 0.3), 0px 1px 3px 1px rgba(60, 64, 67, 0.15);\n",
              "      fill: #174EA6;\n",
              "    }\n",
              "\n",
              "    .colab-df-buttons div {\n",
              "      margin-bottom: 4px;\n",
              "    }\n",
              "\n",
              "    [theme=dark] .colab-df-convert {\n",
              "      background-color: #3B4455;\n",
              "      fill: #D2E3FC;\n",
              "    }\n",
              "\n",
              "    [theme=dark] .colab-df-convert:hover {\n",
              "      background-color: #434B5C;\n",
              "      box-shadow: 0px 1px 3px 1px rgba(0, 0, 0, 0.15);\n",
              "      filter: drop-shadow(0px 1px 2px rgba(0, 0, 0, 0.3));\n",
              "      fill: #FFFFFF;\n",
              "    }\n",
              "  </style>\n",
              "\n",
              "    <script>\n",
              "      const buttonEl =\n",
              "        document.querySelector('#df-bbffc2d0-7156-4dd4-b01a-78baaab847cf button.colab-df-convert');\n",
              "      buttonEl.style.display =\n",
              "        google.colab.kernel.accessAllowed ? 'block' : 'none';\n",
              "\n",
              "      async function convertToInteractive(key) {\n",
              "        const element = document.querySelector('#df-bbffc2d0-7156-4dd4-b01a-78baaab847cf');\n",
              "        const dataTable =\n",
              "          await google.colab.kernel.invokeFunction('convertToInteractive',\n",
              "                                                    [key], {});\n",
              "        if (!dataTable) return;\n",
              "\n",
              "        const docLinkHtml = 'Like what you see? Visit the ' +\n",
              "          '<a target=\"_blank\" href=https://colab.research.google.com/notebooks/data_table.ipynb>data table notebook</a>'\n",
              "          + ' to learn more about interactive tables.';\n",
              "        element.innerHTML = '';\n",
              "        dataTable['output_type'] = 'display_data';\n",
              "        await google.colab.output.renderOutput(dataTable, element);\n",
              "        const docLink = document.createElement('div');\n",
              "        docLink.innerHTML = docLinkHtml;\n",
              "        element.appendChild(docLink);\n",
              "      }\n",
              "    </script>\n",
              "  </div>\n",
              "\n",
              "\n",
              "<div id=\"df-9c4914e7-235e-405c-9efc-5e40e1d27fff\">\n",
              "  <button class=\"colab-df-quickchart\" onclick=\"quickchart('df-9c4914e7-235e-405c-9efc-5e40e1d27fff')\"\n",
              "            title=\"Suggest charts\"\n",
              "            style=\"display:none;\">\n",
              "\n",
              "<svg xmlns=\"http://www.w3.org/2000/svg\" height=\"24px\"viewBox=\"0 0 24 24\"\n",
              "     width=\"24px\">\n",
              "    <g>\n",
              "        <path d=\"M19 3H5c-1.1 0-2 .9-2 2v14c0 1.1.9 2 2 2h14c1.1 0 2-.9 2-2V5c0-1.1-.9-2-2-2zM9 17H7v-7h2v7zm4 0h-2V7h2v10zm4 0h-2v-4h2v4z\"/>\n",
              "    </g>\n",
              "</svg>\n",
              "  </button>\n",
              "\n",
              "<style>\n",
              "  .colab-df-quickchart {\n",
              "      --bg-color: #E8F0FE;\n",
              "      --fill-color: #1967D2;\n",
              "      --hover-bg-color: #E2EBFA;\n",
              "      --hover-fill-color: #174EA6;\n",
              "      --disabled-fill-color: #AAA;\n",
              "      --disabled-bg-color: #DDD;\n",
              "  }\n",
              "\n",
              "  [theme=dark] .colab-df-quickchart {\n",
              "      --bg-color: #3B4455;\n",
              "      --fill-color: #D2E3FC;\n",
              "      --hover-bg-color: #434B5C;\n",
              "      --hover-fill-color: #FFFFFF;\n",
              "      --disabled-bg-color: #3B4455;\n",
              "      --disabled-fill-color: #666;\n",
              "  }\n",
              "\n",
              "  .colab-df-quickchart {\n",
              "    background-color: var(--bg-color);\n",
              "    border: none;\n",
              "    border-radius: 50%;\n",
              "    cursor: pointer;\n",
              "    display: none;\n",
              "    fill: var(--fill-color);\n",
              "    height: 32px;\n",
              "    padding: 0;\n",
              "    width: 32px;\n",
              "  }\n",
              "\n",
              "  .colab-df-quickchart:hover {\n",
              "    background-color: var(--hover-bg-color);\n",
              "    box-shadow: 0 1px 2px rgba(60, 64, 67, 0.3), 0 1px 3px 1px rgba(60, 64, 67, 0.15);\n",
              "    fill: var(--button-hover-fill-color);\n",
              "  }\n",
              "\n",
              "  .colab-df-quickchart-complete:disabled,\n",
              "  .colab-df-quickchart-complete:disabled:hover {\n",
              "    background-color: var(--disabled-bg-color);\n",
              "    fill: var(--disabled-fill-color);\n",
              "    box-shadow: none;\n",
              "  }\n",
              "\n",
              "  .colab-df-spinner {\n",
              "    border: 2px solid var(--fill-color);\n",
              "    border-color: transparent;\n",
              "    border-bottom-color: var(--fill-color);\n",
              "    animation:\n",
              "      spin 1s steps(1) infinite;\n",
              "  }\n",
              "\n",
              "  @keyframes spin {\n",
              "    0% {\n",
              "      border-color: transparent;\n",
              "      border-bottom-color: var(--fill-color);\n",
              "      border-left-color: var(--fill-color);\n",
              "    }\n",
              "    20% {\n",
              "      border-color: transparent;\n",
              "      border-left-color: var(--fill-color);\n",
              "      border-top-color: var(--fill-color);\n",
              "    }\n",
              "    30% {\n",
              "      border-color: transparent;\n",
              "      border-left-color: var(--fill-color);\n",
              "      border-top-color: var(--fill-color);\n",
              "      border-right-color: var(--fill-color);\n",
              "    }\n",
              "    40% {\n",
              "      border-color: transparent;\n",
              "      border-right-color: var(--fill-color);\n",
              "      border-top-color: var(--fill-color);\n",
              "    }\n",
              "    60% {\n",
              "      border-color: transparent;\n",
              "      border-right-color: var(--fill-color);\n",
              "    }\n",
              "    80% {\n",
              "      border-color: transparent;\n",
              "      border-right-color: var(--fill-color);\n",
              "      border-bottom-color: var(--fill-color);\n",
              "    }\n",
              "    90% {\n",
              "      border-color: transparent;\n",
              "      border-bottom-color: var(--fill-color);\n",
              "    }\n",
              "  }\n",
              "</style>\n",
              "\n",
              "  <script>\n",
              "    async function quickchart(key) {\n",
              "      const quickchartButtonEl =\n",
              "        document.querySelector('#' + key + ' button');\n",
              "      quickchartButtonEl.disabled = true;  // To prevent multiple clicks.\n",
              "      quickchartButtonEl.classList.add('colab-df-spinner');\n",
              "      try {\n",
              "        const charts = await google.colab.kernel.invokeFunction(\n",
              "            'suggestCharts', [key], {});\n",
              "      } catch (error) {\n",
              "        console.error('Error during call to suggestCharts:', error);\n",
              "      }\n",
              "      quickchartButtonEl.classList.remove('colab-df-spinner');\n",
              "      quickchartButtonEl.classList.add('colab-df-quickchart-complete');\n",
              "    }\n",
              "    (() => {\n",
              "      let quickchartButtonEl =\n",
              "        document.querySelector('#df-9c4914e7-235e-405c-9efc-5e40e1d27fff button');\n",
              "      quickchartButtonEl.style.display =\n",
              "        google.colab.kernel.accessAllowed ? 'block' : 'none';\n",
              "    })();\n",
              "  </script>\n",
              "</div>\n",
              "\n",
              "    </div>\n",
              "  </div>\n"
            ],
            "application/vnd.google.colaboratory.intrinsic+json": {
              "type": "dataframe",
              "summary": "{\n  \"name\": \"display(pd\",\n  \"rows\": 80,\n  \"fields\": [\n    {\n      \"column\": \"2024-01-01\",\n      \"properties\": {\n        \"dtype\": \"object\",\n        \"num_unique_values\": 80,\n        \"samples\": [\n          \"2024-02-19\",\n          \"2024-01-03\",\n          \"2024-02-07\"\n        ],\n        \"semantic_type\": \"\",\n        \"description\": \"\"\n      }\n    },\n    {\n      \"column\": \"-156\",\n      \"properties\": {\n        \"dtype\": \"number\",\n        \"std\": 153,\n        \"min\": -418,\n        \"max\": 315,\n        \"num_unique_values\": 73,\n        \"samples\": [\n          -111,\n          20,\n          268\n        ],\n        \"semantic_type\": \"\",\n        \"description\": \"\"\n      }\n    }\n  ]\n}"
            }
          },
          "metadata": {}
        }
      ]
    },
    {
      "cell_type": "code",
      "source": [
        "initial_balance = 100000\n",
        "fd_rate = 0.0001\n",
        "\n",
        "# Calculate the equity curve\n",
        "daily_pnl_path.columns = ['date', 'pnl']\n",
        "daily_pnl_path['date'] = pd.to_datetime(daily_pnl_path['date'])\n",
        "daily_pnl_path['balance'] = initial_balance + daily_pnl_path['pnl'].cumsum()\n"
      ],
      "metadata": {
        "id": "m7c3zol2urdw"
      },
      "execution_count": null,
      "outputs": []
    },
    {
      "cell_type": "code",
      "source": [
        "# Calculate daily FD return\n",
        "daily_pnl_path['fd_return'] = (daily_pnl_path['balance'].shift(1) * fd_rate).fillna(0)\n",
        "daily_pnl_path['fd_balance'] = initial_balance + daily_pnl_path['fd_return'].cumsum()\n",
        "\n",
        "# Calculate the adjusted equity curve\n",
        "daily_pnl_path['adjusted_balance'] = initial_balance\n",
        "daily_pnl_path['adjusted_balance'] += (daily_pnl_path['pnl'] + daily_pnl_path['fd_return']).cumsum()\n"
      ],
      "metadata": {
        "id": "lt4tu_ovuETn"
      },
      "execution_count": null,
      "outputs": []
    },
    {
      "cell_type": "code",
      "source": [
        "# Calculate drawdown from the peak\n",
        "daily_pnl_path['peak'] = daily_pnl_path['adjusted_balance'].cummax()\n",
        "daily_pnl_path['dd'] = daily_pnl_path['adjusted_balance'] - daily_pnl_path['peak']\n",
        "daily_pnl_path['dd_percentage'] = daily_pnl_path['dd'] / daily_pnl_path['peak'] * 100\n",
        "\n",
        "# Calculate drawdown duration\n",
        "daily_pnl_path['dd_duration'] = daily_pnl_path['dd'].ne(0).astype(int).groupby(daily_pnl_path['dd'].eq(0).cumsum()).cumsum()\n"
      ],
      "metadata": {
        "id": "ZmDmi7nLvjFy"
      },
      "execution_count": null,
      "outputs": []
    },
    {
      "cell_type": "code",
      "source": [
        "# Calculate drawdown stats\n",
        "max_dd = daily_pnl_path['dd'].min()\n",
        "max_dd_duration = daily_pnl_path['dd_duration'].max()\n"
      ],
      "metadata": {
        "id": "Qq4vRIXvv5C8"
      },
      "execution_count": null,
      "outputs": []
    },
    {
      "cell_type": "code",
      "source": [
        "# Calculate profit streak stats\n",
        "daily_pnl_path['profit_streak'] = daily_pnl_path['pnl'].gt(0).astype(int).groupby(daily_pnl_path['pnl'].le(0).cumsum()).cumsum()\n",
        "max_profit_streak = daily_pnl_path['profit_streak'].max()\n"
      ],
      "metadata": {
        "id": "VIOw_DG0wCHQ"
      },
      "execution_count": null,
      "outputs": []
    },
    {
      "cell_type": "code",
      "source": [
        "# Calculate drawdown streak stats\n",
        "max_dd_streak = daily_pnl_path['dd_duration'].max()\n",
        "dd_streaks = daily_pnl_path[daily_pnl_path['dd_duration'] == max_dd_streak]\n",
        "\n",
        "\n"
      ],
      "metadata": {
        "id": "eSsRiUEswMQZ"
      },
      "execution_count": null,
      "outputs": []
    },
    {
      "source": [
        "!pip install openpyxl\n",
        "import pandas as pd  # Import the pandas library\n",
        "\n",
        "output_path = '/content/gdrive/My Drive/CN/output.xlsx'\n",
        "with pd.ExcelWriter(output_path, engine='openpyxl') as writer:\n",
        "    daily_pnl_path.to_excel(writer, sheet_name='Daily PnL Data', index=False)\n",
        "    summary_stats = pd.DataFrame({\n",
        "        'Metric': ['Maximum Drawdown', 'Maximum Drawdown Duration', 'Maximum Profit Streak'],\n",
        "        'Value': [max_dd, max_dd_duration, max_profit_streak]\n",
        "    })\n",
        "    summary_stats.to_excel(writer, sheet_name='Summary Stats', index=False)\n",
        "\n",
        "    dd_streaks.to_excel(writer, sheet_name='Drawdown Streaks', index=False)\n",
        "\n",
        "print(f\"Results saved to {output_path}\")"
      ],
      "cell_type": "code",
      "metadata": {
        "colab": {
          "base_uri": "https://localhost:8080/"
        },
        "id": "eYSnTivd8-Pg",
        "outputId": "22d5afc1-2d6e-465e-ae58-c98ceea9e18d"
      },
      "execution_count": null,
      "outputs": [
        {
          "output_type": "stream",
          "name": "stdout",
          "text": [
            "Requirement already satisfied: openpyxl in /usr/local/lib/python3.10/dist-packages (3.1.3)\n",
            "Requirement already satisfied: et-xmlfile in /usr/local/lib/python3.10/dist-packages (from openpyxl) (1.1.0)\n",
            "Results saved to /content/gdrive/My Drive/CN/output.xlsx\n"
          ]
        }
      ]
    },
    {
      "cell_type": "code",
      "source": [
        "# The solution of the above code is shown in this cell the link is shown below\n",
        "\"https://docs.google.com/spreadsheets/d/12HEjOiyB3-I8kye7FLPO9Z_AL8vWPs4D/edit?usp=sharing&ouid=102594554916705844737&rtpof=true&sd=true\""
      ],
      "metadata": {
        "colab": {
          "base_uri": "https://localhost:8080/",
          "height": 36
        },
        "id": "kAWuQHwK4Yk7",
        "outputId": "198d6c18-815f-4fd9-e49c-8d609dde84f4"
      },
      "execution_count": null,
      "outputs": [
        {
          "output_type": "execute_result",
          "data": {
            "text/plain": [
              "'https://docs.google.com/spreadsheets/d/12HEjOiyB3-I8kye7FLPO9Z_AL8vWPs4D/edit?usp=sharing&ouid=102594554916705844737&rtpof=true&sd=true'"
            ],
            "application/vnd.google.colaboratory.intrinsic+json": {
              "type": "string"
            }
          },
          "metadata": {},
          "execution_count": 32
        }
      ]
    },
    {
      "cell_type": "code",
      "source": [
        "# Took permission from  Google Drive to access and save files.\n",
        "# Read the PnL Data and loaded from a CSV file stored in Google Drive.\n",
        "# Equity Curve Calculation\n",
        "# Fixed Deposit (FD) Return Calculation\n",
        "# Adjusted Equity Curve Calculation\n",
        "# Drawdown (DD) Analysis\n",
        "# Drawdown Statistics\n",
        "# Profit Streak Analysis\n",
        "# Drawdown Streak Analysis\n",
        "# Saving Results to Excel"
      ],
      "metadata": {
        "id": "fV_PiJFl9qmW"
      },
      "execution_count": null,
      "outputs": []
    }
  ]
}